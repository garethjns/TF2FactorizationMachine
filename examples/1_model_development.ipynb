{
 "cells": [
  {
   "cell_type": "markdown",
   "source": [
    "# Factorization machine in TensorFlow 2\n",
    "\n",
    "Example implementing a factorization machine in TensorFlow 2 using eager computation.\n",
    "\n",
    "To oversimplify, factorization machines are like linear/logistic regression models, but with an added set of weights, *V*, that models polynomial interactions in a lower dimensional space. They're particualry suited to very sparse inputs, such as user-item ratings for reccomendation systems.\n",
    "\n",
    "This is based on the theory and tf-1 code in [this article](http://nowave.it/factorization-machines-with-tensorflow.html) by Gabriele Modena and the paper by [Factorization Machines](https://www.csie.ntu.edu.tw/~b97053/paper/Rendle2010FM.pdf) by Steffen Rendle. Please refer to these articles for much more detailed descriptions of the model, and the maths that avoid O(p<sup>2</sup>).\n",
    "\n",
    "Note this is early version of the model so may well contain mistakes. Also to avoid having to deal with TFs typing, everything is cast into double precision for now."
   ],
   "metadata": {
    "collapsed": false,
    "pycharm": {
     "name": "#%% md\n"
    }
   }
  },
  {
   "cell_type": "code",
   "execution_count": 1,
   "metadata": {
    "collapsed": true,
    "pycharm": {
     "is_executing": false
    }
   },
   "outputs": [
    {
     "name": "stderr",
     "text": [
      "C:\\envs\\TF2FactorizationMachine\\lib\\site-packages\\tensorflow\\python\\framework\\dtypes.py:516: FutureWarning: Passing (type, 1) or '1type' as a synonym of type is deprecated; in a future version of numpy, it will be understood as (type, (1,)) / '(1,)type'.\n  _np_qint8 = np.dtype([(\"qint8\", np.int8, 1)])\nC:\\envs\\TF2FactorizationMachine\\lib\\site-packages\\tensorflow\\python\\framework\\dtypes.py:517: FutureWarning: Passing (type, 1) or '1type' as a synonym of type is deprecated; in a future version of numpy, it will be understood as (type, (1,)) / '(1,)type'.\n  _np_quint8 = np.dtype([(\"quint8\", np.uint8, 1)])\nC:\\envs\\TF2FactorizationMachine\\lib\\site-packages\\tensorflow\\python\\framework\\dtypes.py:518: FutureWarning: Passing (type, 1) or '1type' as a synonym of type is deprecated; in a future version of numpy, it will be understood as (type, (1,)) / '(1,)type'.\n  _np_qint16 = np.dtype([(\"qint16\", np.int16, 1)])\nC:\\envs\\TF2FactorizationMachine\\lib\\site-packages\\tensorflow\\python\\framework\\dtypes.py:519: FutureWarning: Passing (type, 1) or '1type' as a synonym of type is deprecated; in a future version of numpy, it will be understood as (type, (1,)) / '(1,)type'.\n  _np_quint16 = np.dtype([(\"quint16\", np.uint16, 1)])\nC:\\envs\\TF2FactorizationMachine\\lib\\site-packages\\tensorflow\\python\\framework\\dtypes.py:520: FutureWarning: Passing (type, 1) or '1type' as a synonym of type is deprecated; in a future version of numpy, it will be understood as (type, (1,)) / '(1,)type'.\n  _np_qint32 = np.dtype([(\"qint32\", np.int32, 1)])\nC:\\envs\\TF2FactorizationMachine\\lib\\site-packages\\tensorflow\\python\\framework\\dtypes.py:525: FutureWarning: Passing (type, 1) or '1type' as a synonym of type is deprecated; in a future version of numpy, it will be understood as (type, (1,)) / '(1,)type'.\n  np_resource = np.dtype([(\"resource\", np.ubyte, 1)])\n",
      "C:\\envs\\TF2FactorizationMachine\\lib\\site-packages\\tensorboard\\compat\\tensorflow_stub\\dtypes.py:541: FutureWarning: Passing (type, 1) or '1type' as a synonym of type is deprecated; in a future version of numpy, it will be understood as (type, (1,)) / '(1,)type'.\n  _np_qint8 = np.dtype([(\"qint8\", np.int8, 1)])\nC:\\envs\\TF2FactorizationMachine\\lib\\site-packages\\tensorboard\\compat\\tensorflow_stub\\dtypes.py:542: FutureWarning: Passing (type, 1) or '1type' as a synonym of type is deprecated; in a future version of numpy, it will be understood as (type, (1,)) / '(1,)type'.\n  _np_quint8 = np.dtype([(\"quint8\", np.uint8, 1)])\nC:\\envs\\TF2FactorizationMachine\\lib\\site-packages\\tensorboard\\compat\\tensorflow_stub\\dtypes.py:543: FutureWarning: Passing (type, 1) or '1type' as a synonym of type is deprecated; in a future version of numpy, it will be understood as (type, (1,)) / '(1,)type'.\n  _np_qint16 = np.dtype([(\"qint16\", np.int16, 1)])\nC:\\envs\\TF2FactorizationMachine\\lib\\site-packages\\tensorboard\\compat\\tensorflow_stub\\dtypes.py:544: FutureWarning: Passing (type, 1) or '1type' as a synonym of type is deprecated; in a future version of numpy, it will be understood as (type, (1,)) / '(1,)type'.\n  _np_quint16 = np.dtype([(\"quint16\", np.uint16, 1)])\nC:\\envs\\TF2FactorizationMachine\\lib\\site-packages\\tensorboard\\compat\\tensorflow_stub\\dtypes.py:545: FutureWarning: Passing (type, 1) or '1type' as a synonym of type is deprecated; in a future version of numpy, it will be understood as (type, (1,)) / '(1,)type'.\n  _np_qint32 = np.dtype([(\"qint32\", np.int32, 1)])\nC:\\envs\\TF2FactorizationMachine\\lib\\site-packages\\tensorboard\\compat\\tensorflow_stub\\dtypes.py:550: FutureWarning: Passing (type, 1) or '1type' as a synonym of type is deprecated; in a future version of numpy, it will be understood as (type, (1,)) / '(1,)type'.\n  np_resource = np.dtype([(\"resource\", np.ubyte, 1)])\n"
     ],
     "output_type": "stream"
    },
    {
     "name": "stdout",
     "text": [
      "2.0.0-beta1\n",
      "True\n"
     ],
     "output_type": "stream"
    }
   ],
   "source": [
    "import tensorflow as tf\n",
    "from typing import Callable, Dict, Any\n",
    "import numpy as np\n",
    "import matplotlib.pyplot as plt\n",
    "%matplotlib inline\n",
    "\n",
    "print(tf.__version__)\n",
    "print(tf.test.is_gpu_available())\n",
    "tf.keras.backend.clear_session()\n"
   ]
  },
  {
   "cell_type": "markdown",
   "source": [
    "# Toy data example\n",
    "\n",
    "This data is modified slightly from:\n",
    "http://nowave.it/factorization-machines-with-tensorflow.html\n",
    "http://www.csie.ntu.edu.tw/~b97053/paper/Rendle2010FM.pdf\n",
    "\n",
    "It contains user and item information required for collaborative filtering (and also some additional features). One hot encoded where appropriate. Ratings are explicit 1-5.\n",
    "\n",
    "| Users | Movies | Movie ratings | Time | Last movies rated | Rating |\n",
    "|---|---|---|---|---|--|\n",
    "| **[A, B, C]** | **[TI, NH, SW, ST]** | **[TI, NH, SW, ST]** | **[T]** | **[TI, NH, SW, ST]** | **[R]** | \n",
    "| [1, 0, 0] | [1,  0,  0,  0] | [0.3, 0.3, 0.3, 0.0] |  13 |  [0,  0,  0,  0 ] | 5 | \n",
    "| [1, 0, 0] | [0,  1,  0,  0] | [0.3, 0.3, 0.3, 0.0] |  14 |  [1,  0,  0,  0 ] | 3 |\n",
    "| [1, 0, 0] | [0,  0,  1,  0] | [0.3, 0.3, 0.3, 0.0] |  16 |  [0,  1,  0,  0 ] | 1 |\n",
    "| [0, 1, 0] | [0,  0,  1,  0] | [0.0, 0.0, 0.5, 0.5] |  5  |  [0,  0,  0,  0 ] | 4 |\n",
    "| [0, 1, 0] | [0,  0,  0,  1] | [0.0, 0.0, 0.5, 0.5] |  8  |  [0,  0,  1,  0 ] | 5 |\n",
    "| [0, 0, 1] | [1,  0,  0,  0] | [0.5, 0.0, 0.5, 0.0] |  9  |  [0,  0,  0,  0 ] | 1 |\n",
    "| [0, 0, 1] | [0,  0,  1,  0] | [0.5, 0.0, 0.5, 0.0] |  12 |  [1,  0,  0,  0 ] | 5 |\n"
   ],
   "metadata": {
    "collapsed": false,
    "pycharm": {
     "name": "#%% md\n"
    }
   }
  },
  {
   "cell_type": "code",
   "execution_count": 2,
   "outputs": [
    {
     "name": "stdout",
     "text": [
      "(7, 16)\n(7, 1)\n"
     ],
     "output_type": "stream"
    }
   ],
   "source": [
    "# Features\n",
    "x = np.array([[1, 0, 0,  1, 0, 0, 0,  0.3, 0.3, 0.3, 0.0,  13,  0, 0, 0, 0 ],\n",
    "              [1, 0, 0,  0, 1, 0, 0,  0.3, 0.3, 0.3, 0.0,  14,  1, 0, 0, 0 ],\n",
    "              [1, 0, 0,  0, 0, 1, 0,  0.3, 0.3, 0.3, 0.0,  16,  0, 1, 0, 0 ],\n",
    "              [0, 1, 0,  0, 0, 1, 0,  0.0, 0.0, 0.5, 0.5,  5,   0, 0, 0, 0 ],\n",
    "              [0, 1, 0,  0, 0, 0, 1,  0.0, 0.0, 0.5, 0.5,  8,   0, 0, 1, 0 ],\n",
    "              [0, 0, 1,  1, 0, 0, 0,  0.5, 0.0, 0.5, 0.0,  9,   0, 0, 0, 0 ],\n",
    "              [0, 0, 1,  0, 0, 1, 0,  0.5, 0.0, 0.5, 0.0,  12,  1, 0, 0, 0 ]])\n",
    "\n",
    "# Targets (explicit rating)\n",
    "y = np.array([5, 3, 1, 4, 5, 1, 5])\n",
    "y.shape = (7, 1)\n",
    "\n",
    "print(x.shape)\n",
    "print(y.shape)\n"
   ],
   "metadata": {
    "collapsed": false,
    "pycharm": {
     "name": "#%%\n",
     "is_executing": false
    }
   }
  },
  {
   "cell_type": "code",
   "execution_count": 3,
   "outputs": [],
   "source": [
    "class FactorizationMachine:\n",
    "    def __init__(self, \n",
    "                 m: int=2,\n",
    "                 k: int=5):\n",
    "        \"\"\"\n",
    "        Initialise coefficients. \n",
    "        \n",
    "        For now:\n",
    "         - Requires manual specification of feature space dimensionality. \n",
    "         - Coefficients are all float64. Might be overkill but it simplifies casting.\n",
    "        \n",
    "        :param m: Number of features.\n",
    "        :param k: Number of latent factors to model in V.\n",
    "        \"\"\"\n",
    "        self.b = tf.Variable(tf.zeros([1], \n",
    "                                      dtype='double'))\n",
    "        self.w = tf.Variable(tf.random.normal(([m]), \n",
    "                                              stddev=0.01, \n",
    "                                              dtype='double'))\n",
    "        self.v = tf.Variable(tf.random.normal(([k, m]), \n",
    "                                              stddev=0.01, \n",
    "                                              dtype='double'))\n",
    "        \n",
    "    \n",
    "    def __call__(self, x: tf.Tensor):\n",
    "        \"\"\"\n",
    "        Predict from model.\n",
    "        \n",
    "        :param x: Tensor containing features. \n",
    "        :return: Tensor containing predictions.\n",
    "        \"\"\"\n",
    "        \n",
    "        # Linear terms\n",
    "        linear = tf.reduce_sum(tf.multiply(self.w, x), \n",
    "                                           axis=1, \n",
    "                                           keepdims=True)\n",
    "\n",
    "        # Interaction terms\n",
    "        interactions = tf.multiply(0.5, tf.reduce_sum(tf.subtract(tf.pow(tf.matmul(x, tf.transpose(self.v)), 2),\n",
    "                                                      tf.matmul(tf.pow(x, 2), tf.transpose(tf.pow(self.v, 2)))),\n",
    "                                                      axis=1, \n",
    "                                                      keepdims=True))\n",
    "\n",
    "        # Linear sum along with intercept\n",
    "        wv = tf.add(linear, interactions)\n",
    "        bwv = tf.add(self.b, wv)\n",
    "        \n",
    "        return bwv\n",
    "    \n",
    "    \n",
    "mod = FactorizationMachine()"
   ],
   "metadata": {
    "collapsed": false,
    "pycharm": {
     "name": "#%%\n",
     "is_executing": false
    }
   }
  },
  {
   "cell_type": "markdown",
   "source": [
    "## Define loss and training step\n",
    "\n",
    "The loss here is just least square error.\n",
    "\n",
    "The training step calculates the current model loss and automatically calculates and records the gradients using tf.GradientTape. The model coefficients are updated using these gradients and the learning rate."
   ],
   "metadata": {
    "collapsed": false,
    "pycharm": {
     "name": "#%% md\n"
    }
   }
  },
  {
   "cell_type": "code",
   "execution_count": 4,
   "outputs": [],
   "source": [
    "def l2_loss(y_true, y_pred):\n",
    "    return tf.reduce_mean(tf.square(y_true - y_pred))\n",
    "\n",
    "def train_step(mod, x, y_true, lr,\n",
    "               loss_f: Callable=l2_loss):\n",
    "   \n",
    "    # Calculate current loss and record gradients\n",
    "    with tf.GradientTape() as t:\n",
    "        cur_loss = loss_f(y_true=y_true,\n",
    "                          y_pred=mod(x))\n",
    "        \n",
    "    # Get the gradients and assign to model\n",
    "    db, dw, dv = t.gradient(cur_loss, [mod.b, mod.w, mod.v])\n",
    "    mod.b.assign_sub(lr * db)\n",
    "    mod.w.assign_sub(lr * dw)\n",
    "    mod.v.assign_sub(lr * dv)\n",
    "\n",
    "    return cur_loss"
   ],
   "metadata": {
    "collapsed": false,
    "pycharm": {
     "name": "#%%\n",
     "is_executing": false
    }
   }
  },
  {
   "cell_type": "markdown",
   "source": [
    "## Train model\n",
    "\n",
    "Training is done by iterating over the toy data a few times; there's no optimizer used here. Loss and the first elements of W and V are logged on each iteration."
   ],
   "metadata": {
    "collapsed": false,
    "pycharm": {
     "name": "#%% md\n"
    }
   }
  },
  {
   "cell_type": "code",
   "execution_count": 5,
   "outputs": [
    {
     "name": "stderr",
     "text": [
      "WARNING: Logging before flag parsing goes to stderr.\nW0806 22:01:15.682624 12260 deprecation.py:323] From C:\\envs\\TF2FactorizationMachine\\lib\\site-packages\\tensorflow\\python\\ops\\math_grad.py:1205: add_dispatch_support.<locals>.wrapper (from tensorflow.python.ops.array_ops) is deprecated and will be removed in a future version.\nInstructions for updating:\nUse tf.where in 2.0, which has the same broadcast rule as np.where\n"
     ],
     "output_type": "stream"
    },
    {
     "name": "stdout",
     "text": [
      "Epoch 11 / 200: Loss: 4.594301060077273, last change: 0.01969146948875089\nEpoch 21 / 200: Loss: 4.38417370705598, last change: 0.02291693808227091\n",
      "Epoch 31 / 200: Loss: 4.100511413582454, last change: 0.034637535743701875\nEpoch 41 / 200: Loss: 3.620834316173876, last change: 0.06118334848321538\n",
      "Epoch 51 / 200: Loss: 2.8426991736666642, last change: 0.0879554562770033\nEpoch 61 / 200: Loss: 2.0215276029702207, last change: 0.06954395637786526\n",
      "Epoch 71 / 200: Loss: 1.5349162932246305, last change: 0.03425858516572733\nEpoch 81 / 200: Loss: 1.2782294304452333, last change: 0.02136657561294908\nEpoch 91 / 200: Loss: 1.0836700149146148, last change: 0.018463112310324714\n",
      "Epoch 101 / 200: Loss: 0.9058786046329147, last change: 0.01727558836095333\nEpoch 111 / 200: Loss: 0.7395047953805391, last change: 0.01607369558726146\n",
      "Epoch 121 / 200: Loss: 0.5870151634084431, last change: 0.014513570342317483\nEpoch 131 / 200: Loss: 0.45225818542150226, last change: 0.012577441498887176\n",
      "Epoch 141 / 200: Loss: 0.3383185335632252, last change: 0.010405501224838853\nEpoch 151 / 200: Loss: 0.2464030517630049, last change: 0.00821165408077143\n",
      "Epoch 161 / 200: Loss: 0.17556881090239515, last change: 0.006200218698023285\nEpoch 171 / 200: Loss: 0.12317748064321123, last change: 0.004506351639384523\nEpoch 181 / 200: Loss: 0.08571850139848257, last change: 0.0031785580633887783",
      "\nEarly stopping, loss=0.08265295148618358\n"
     ],
     "output_type": "stream"
    }
   ],
   "source": [
    "# Reset model\n",
    "mod = FactorizationMachine(m=16)\n",
    "\n",
    "epochs = 200\n",
    "bs, ws, vs, losses = [], [], [], []\n",
    "\n",
    "for e in range(epochs):\n",
    "    \n",
    "    cur_loss = train_step(mod=mod, \n",
    "                     x=x, \n",
    "                     y_true=y,\n",
    "                     lr=0.0025,\n",
    "                     loss_f=l2_loss)\n",
    "    \n",
    "    # Logging\n",
    "    losses.append(cur_loss)\n",
    "    bs.append(mod.b.numpy()[0])\n",
    "    # Just logging changes in first terms here\n",
    "    ws.append(mod.w.numpy()[0])\n",
    "    vs.append(mod.v.numpy()[0])\n",
    "    \n",
    "    # Sometimes plot loss\n",
    "    if (e > 1) & (e % 10 == 0):\n",
    "        print(f\"Epoch {e + 1} / {epochs}: Loss: {cur_loss.numpy()}, last change: {np.abs(losses[-1] - losses[-2])}\")\n",
    "        \n",
    "    # Early stop?\n",
    "    if e > 10:\n",
    "        if np.mean(losses[-10:-1]) < 0.1:\n",
    "            print(f\"Early stopping, loss={cur_loss.numpy()}\")\n",
    "            break"
   ],
   "metadata": {
    "collapsed": false,
    "pycharm": {
     "name": "#%% \n",
     "is_executing": false
    }
   }
  },
  {
   "cell_type": "code",
   "execution_count": 6,
   "outputs": [
    {
     "data": {
      "text/plain": "Text(0, 0.5, 'Loss')"
     },
     "metadata": {},
     "output_type": "execute_result",
     "execution_count": 6
    },
    {
     "data": {
      "text/plain": "<Figure size 432x288 with 1 Axes>",
      "image/png": "[encoded data removed]"
     },
     "metadata": {
      "needs_background": "light"
     },
     "output_type": "display_data"
    }
   ],
   "source": [
    "plt.plot(losses)\n",
    "plt.title('Loss history')\n",
    "plt.xlabel('Epoch')\n",
    "plt.ylabel('Loss')"
   ],
   "metadata": {
    "collapsed": false,
    "pycharm": {
     "name": "#%%\n",
     "is_executing": false
    }
   }
  },
  {
   "cell_type": "code",
   "execution_count": 7,
   "outputs": [
    {
     "data": {
      "text/plain": "<matplotlib.legend.Legend at 0x1dc01323588>"
     },
     "metadata": {},
     "output_type": "execute_result",
     "execution_count": 7
    },
    {
     "data": {
      "text/plain": "<Figure size 432x288 with 1 Axes>",
      "image/png": "[encoded data removed]"
     },
     "metadata": {
      "needs_background": "light"
     },
     "output_type": "display_data"
    }
   ],
   "source": [
    "plt.plot(bs, \n",
    "         label='b')\n",
    "plt.plot(ws,\n",
    "         label='w[0]')\n",
    "plt.xlabel('Epoch')\n",
    "plt.ylabel('Value')\n",
    "plt.title('Coefficients history')\n",
    "\n",
    "plt.legend()"
   ],
   "metadata": {
    "collapsed": false,
    "pycharm": {
     "name": "#%%\n",
     "is_executing": false
    }
   }
  },
  {
   "cell_type": "code",
   "execution_count": 8,
   "outputs": [
    {
     "name": "stdout",
     "text": [
      "(5, 16)\n"
     ],
     "output_type": "stream"
    },
    {
     "data": {
      "text/plain": "Text(0.5, 1.0, 'V')"
     },
     "metadata": {},
     "output_type": "execute_result",
     "execution_count": 8
    },
    {
     "data": {
      "text/plain": "<Figure size 432x288 with 1 Axes>",
      "image/png": "[encoded data removed]"
     },
     "metadata": {
      "needs_background": "light"
     },
     "output_type": "display_data"
    }
   ],
   "source": [
    "print(mod.v.shape)\n",
    "plt.imshow(mod.v.numpy())\n",
    "plt.ylabel('Latent features')\n",
    "plt.xlabel('Item index')\n",
    "plt.title('V')"
   ],
   "metadata": {
    "collapsed": false,
    "pycharm": {
     "name": "#%%\n",
     "is_executing": false
    }
   }
  }
 ],
 "metadata": {
  "language_info": {
   "codemirror_mode": {
    "name": "ipython",
    "version": 2
   },
   "file_extension": ".py",
   "mimetype": "text/x-python",
   "name": "python",
   "nbconvert_exporter": "python",
   "pygments_lexer": "ipython2",
   "version": "2.7.6"
  },
  "kernelspec": {
   "name": "fms",
   "language": "python",
   "display_name": "FMs"
  },
  "pycharm": {
   "stem_cell": {
    "cell_type": "raw",
    "source": [],
    "metadata": {
     "collapsed": false
    }
   }
  }
 },
 "nbformat": 4,
 "nbformat_minor": 0
}